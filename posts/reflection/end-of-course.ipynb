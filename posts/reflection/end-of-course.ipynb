{
 "cells": [
  {
   "attachments": {},
   "cell_type": "markdown",
   "metadata": {},
   "source": [
    "# CSCI 0451: End-Of-Course Reflection\n",
    "\n",
    "Jeff Blake"
   ]
  },
  {
   "attachments": {},
   "cell_type": "markdown",
   "metadata": {},
   "source": [
    "## The Data\n",
    "\n",
    "In this section I'll ask you to fill in some data. You don't have to give precise numbers -- approximate, conversational responses are fine. For example, when I ask \"how often did you attend class,\" good answers include \"almost always,\" \"I missed three times,\" \"about 75% of the time,\" \"not as often as I wanted,\" etc. \n",
    "\n",
    "### Presence in Class\n",
    "\n",
    "- *How often did you attend class? (e.g. \"almost always,\" \"I missed three times,\" etc.)* Always\n",
    "- *How often did you take notes on the core readings ahead of the class period?* Never, but I have read them almost every time (I think I may have missed a reading once or twice).\n",
    "- *How often were you **prepared** to present the daily warm-up exercise to your team, even if you weren't actually called?* Always\n",
    "- *How many times did you **actually** present the daily warm-up to your team?* Maybe 5 or 6 times, I've also helped others present a handful of times.\n",
    "- *How many times did you ask your team for help while presenting the daily warm-up?* I've definitely discussed my results with my team to make sure I was generally correct, but I don't think I've asked my team for help for something I fully didn't know/didn't prepare beforehand.\n",
    "- *How often did you learn something new from a teammate's presentation of the daily warm-up?* I think while the answers were generally the same, I tended to learn a new technique or way of looking at a problem when people presented their warm-ups!\n",
    "- *How often did you help a teammate during the daily warm-up presentation?* Around 2 or 3 times\n",
    "- *Did you contribute a question for our guest speaker?* N/A\n",
    "\n",
    "### Presence Outside of Class \n",
    "\n",
    "- *How often did you attend Student Hours or Peer Help?* Never\n",
    "- *How often did you ask for or receive help from your fellow students?* Never\n",
    "- *Did you regularly participate in a study group outside class?* Never\n",
    "- *How often did you post questions or answers in Slack?* I DM'd Phil with questions fairly often throughout the semester\n",
    "\n",
    "### Assignments and Effort\n",
    "\n",
    "- *How many blog posts did you submit?* 7\n",
    "- *How many of your submitted blog posts are at each of the following feedback stages?*\n",
    "    - *No revisions suggested:* 7\n",
    "    - *Revisions useful:* 0\n",
    "    - *Revisions encouraged:* 0\n",
    "    - *Incomplete:* 0\n",
    "- *Roughly how many hours per week did you spend on this course outside of class?* 8-10\n"
   ]
  },
  {
   "attachments": {},
   "cell_type": "markdown",
   "metadata": {},
   "source": [
    "## What You Learned\n",
    "\n",
    "*At the beginning of the course, you may have expressed an interest in focusing a little extra on one or two of the following four categories:* \n",
    "\n",
    "- ***Theory***: *mathematical descriptions of frameworks and algorithms.*\n",
    "- ***Implementation***: *effective coding and use of tools in order to implement efficient machine learning algorithms.*\n",
    "- ***Experimentation***: *performing experiments to assess the performance of algorithms and clearly communicating about the results.*\n",
    "- ***Social responsibility***: *critical analysis of sources of bias and harm in machine learning algorithms; theoretical formulations of fairness and bias*\n",
    "\n",
    "*Did you choose to focus on any of these categories? If so, what did you do in order to pursue your interest?*    "
   ]
  },
  {
   "attachments": {},
   "cell_type": "markdown",
   "metadata": {},
   "source": [
    "I think my theory portion from the mid-course reflection stands here, but I was very happy to refresh myself on my calculus and linear algebra skills! Getting practice with gradient descent and Hessian matrices was also great, as I didn't have much experience with either coming into this class. Similarly, I think my thoughts on implementation are similar to my mid-course reflection, but I've now had more practice to cement these ideas. In particular, I spent a lot of the second half of this semester learning how and when to use vectorized functions, especially with regard to tensors and other size-constrained data structures like numpy arrays. Finally, I think I've also been able to identify sources of bias and have candid and critical discussions about them. Working on my project allowed me to see these sources of bias appear in more subtle ways. For instance, I didn't at first notice how our model for noisy speech identification could be biased based on the fact that the dataset is entirely in English. While this is obvious if I were to stop and think about it, I needed (and still need) practice in identifying these more implicit bias factors."
   ]
  },
  {
   "attachments": {},
   "cell_type": "markdown",
   "metadata": {},
   "source": [
    "## Reflecting on Goals\n",
    "\n",
    "*For each of the categories below, replace the \"[your response here]\" cell with 1-2 paragraphs in which you reflect on the following questions:* \n",
    "\n",
    "- *In what ways did you **meet** your goals from the beginning of the course? Be specific: explain what the goal was and what you did to meet it.* \n",
    "- *In what ways did you **not meet** your goals from the beginning of the course? Be specific: explain what the goal was and what the gap was between what you aspired to and what happened.* \n",
    "- *If there's any **context** you want to share about how you fared relative to your goals, please do!*\n",
    "\n",
    "### Blog Posts"
   ]
  },
  {
   "attachments": {},
   "cell_type": "markdown",
   "metadata": {},
   "source": [
    "I'm extremely happy with how I ended up in terms of my blog posts. I think I did a good job at increasing my pace and learning a lot in the process, completing my original goal of 7 blog posts. Additionally, I'm satisfied with my ability to consistently revise in order to get all of the blog posts up to an E. I think I could've spaced out the posts more evenly, but there wasn't really a point where they felt too overwhelming, even toward the end. Super happy with my accomplishments/quality of work here!"
   ]
  },
  {
   "attachments": {},
   "cell_type": "markdown",
   "metadata": {},
   "source": [
    "### Course Presence (Participation)"
   ]
  },
  {
   "attachments": {},
   "cell_type": "markdown",
   "metadata": {},
   "source": [
    "I think I did a great job at participating in discussions and in class in general. I tried my best to help my groupmates during warm-ups when they needed it and made sure to prepare for class (reading, doing the warmup, etc.) before almost all classes. While we didn't have many ethical discussions in class since the mid-semester warmup, I'm still proud of the conversations that I had in class and my ability to express my opinions. I felt that all of my goals were met in this regard."
   ]
  },
  {
   "attachments": {},
   "cell_type": "markdown",
   "metadata": {},
   "source": [
    "### Project "
   ]
  },
  {
   "attachments": {},
   "cell_type": "markdown",
   "metadata": {},
   "source": [
    "I was happy to get a chance to work with audio, especially in a new way -- classification is different than what I've done with it before! As mentioned in my blog post for the project, I would have loved to do more, but that would have been going above and beyond my goals (and the time that I had to work on the project). I also got the opportunity to improve in terms of learning how audio is represented to machines (noted as a goal in my mid-semester post). While not originally how I intended regarding type standards (float vs integer, etc.), I learned more optimal ways of feeding machines audio data. Learning how to use mels-spectrograms to train models was really valuable, I feel."
   ]
  },
  {
   "attachments": {},
   "cell_type": "markdown",
   "metadata": {},
   "source": [
    "### Other\n",
    "\n",
    "*Is there anything else that you want to share with me about what you learned, how you participated, or what you achieved in CSCI 0451?*"
   ]
  },
  {
   "attachments": {},
   "cell_type": "markdown",
   "metadata": {},
   "source": [
    "I don't think so!"
   ]
  },
  {
   "attachments": {},
   "cell_type": "markdown",
   "metadata": {},
   "source": [
    "# Your Proposed Letter Grade\n",
    "\n",
    "*Take 15 minutes to look back on your responses in each of the sections above. Then, make a proposal for the letter grade that you feel best reflects your learning, participation, and achievement in CSCI 0451. Here are some soundbytes to help guide your thinking:*\n",
    "\n",
    "*An **A** sounds like:* \n",
    "\n",
    "- *\"I am very proud of my time in this course.\"*\n",
    "- *\"I have grown significantly in multiple ways that matter to me.\"*\n",
    "- *\"I am ready to take the theory, techniques, and ideas of this course into my future classes, projects, hobbies, or career.\"* \n",
    "\n",
    "*A **B** sounds like:* \n",
    "\n",
    "- *\"I had some opportunities to learn more, overall I feel good about my time in this course.\"*\n",
    "- *\"I am able to explain some new things or achieve new tasks.\"*\n",
    "- *\"I can see a few ideas from this course that will be relevant for my future classes, projects, hobbies, or career.\"*\n",
    "\n",
    "*A **C** sounds like:* \n",
    "\n",
    "- *\"I often made a good effort, but I missed many opportunities to get more out of my time in this course.\"*\n",
    "- *\"I might be able to complete some new tasks related to the course content, but only with significant further guidance.\"* \n",
    "- *\"I don't see any ways to take the contents of this course into my future classes, projects, hobbies, or career.\"*\n",
    "\n",
    "*You might find that some of these soundbytes resonate and other's don't! Take some time, see what feels right, and don't be afraid to celebrate your achievements.* "
   ]
  },
  {
   "attachments": {},
   "cell_type": "markdown",
   "metadata": {},
   "source": [
    "[Your proposed letter grade in this section should be based purely on demonstrations of learning that you have **already submitted**.]{.aside}\n",
    "\n",
    "> **Upon reflection, I feel that my learning, participation, and achievement in CSCI 0451 are best reflected by a grade of** A \n"
   ]
  }
 ],
 "metadata": {
  "kernelspec": {
   "display_name": "ml-0451",
   "language": "python",
   "name": "python3"
  },
  "language_info": {
   "name": "python",
   "version": "3.9.15"
  },
  "orig_nbformat": 4,
  "vscode": {
   "interpreter": {
    "hash": "debe06cc0f9553f110b64dc3926c05df82dae2145b852c8422b9c04315589dcb"
   }
  }
 },
 "nbformat": 4,
 "nbformat_minor": 2
}
